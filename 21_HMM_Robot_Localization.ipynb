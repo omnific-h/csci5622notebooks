{
 "cells": [
  {
   "cell_type": "markdown",
   "metadata": {},
   "source": [
    "# Lecture 21: Hidden Markov Models and Robot Localization\n",
    "***\n",
    "\n",
    "        \n",
    "<img src=\"figs/robot_banner.png\",width=1000,height=50>        "
   ]
  },
  {
   "cell_type": "code",
   "execution_count": 174,
   "metadata": {
    "collapsed": false,
    "scrolled": true
   },
   "outputs": [],
   "source": [
    "import numpy as np \n",
    "import matplotlib.pyplot as plt\n",
    "%matplotlib inline\n",
    "import matplotlib.patches as patches\n",
    "from random import choice \n",
    "\n",
    "msize = 200\n",
    "myfigsize=(12,6)\n",
    "\n",
    "mycolors = {\"blue\": \"steelblue\", \"red\": \"#a76c6e\", \"green\": \"#6a9373\"}\n",
    "\n",
    "class RobotWorld:\n",
    "    def __init__(self, board=[(0,0)], pos=(0,0), eps=0.05):\n",
    "        self.board=board\n",
    "        self.pos=pos\n",
    "        self.probs=np.ones(len(self.board))/len(self.board)\n",
    "        self.sensor = [0,0,0,0]\n",
    "        self.emissions = np.zeros(len(self.board))\n",
    "        self.eps=eps\n",
    "        self.T = self.get_transition()\n",
    "        \n",
    "    def get_transition(self):\n",
    "        T = np.zeros((len(self.board), len(self.board)))\n",
    "        for ii, sq in enumerate(self.board):\n",
    "            neighbors = self.get_neighbors(pos=sq)\n",
    "            valid_neighbors = [jj for jj, n in enumerate(self.board) if n in neighbors]\n",
    "            t = 1.0 / len(valid_neighbors)\n",
    "            for jj in valid_neighbors:\n",
    "                T[ii,jj] = t \n",
    "            \n",
    "        return T\n",
    "    \n",
    "    def get_emissions(self):\n",
    "        self.take_reading()\n",
    "        for ii, sq in enumerate(self.board):\n",
    "            ith_reading = self.take_reading(fuzzy=False, pos=sq)\n",
    "            wrong = 0\n",
    "            for r, t in zip(ith_reading, self.sensor):\n",
    "                if r!=t:\n",
    "                    wrong += 1\n",
    "            self.emissions[ii] =  ((1-self.eps)**(4-wrong))*(self.eps**wrong)\n",
    "        \n",
    "    def get_neighbors(self, pos=None):\n",
    "        pos = pos if pos else self.pos \n",
    "        directions = [(0,1), (0,-1), (1,0), (-1,0)] # N, S, E, W\n",
    "        return [tuple(p+d for p, d in zip(pos, d)) for d in directions]\n",
    "    \n",
    "    def move(self):\n",
    "        neighbors = self.get_neighbors()\n",
    "        valid_moves = [n for n in neighbors if n in self.board]\n",
    "        self.pos = choice(valid_moves)\n",
    "        \n",
    "    def take_reading(self, fuzzy=True, pos=None):\n",
    "        \n",
    "        pos = pos if pos else self.pos\n",
    "        \n",
    "        neighbors = self.get_neighbors(pos) if pos else self.get_neighbors()\n",
    "        reading = [0]*4\n",
    "        for ii, neighbor in enumerate(neighbors): \n",
    "            true_reading = 1 if neighbor in self.board else 0\n",
    "            if fuzzy: \n",
    "                reading[ii] = true_reading if np.random.uniform() <= (1-self.eps) else 1-true_reading \n",
    "            else: \n",
    "                reading[ii] = true_reading \n",
    "                \n",
    "        if fuzzy:\n",
    "            self.sensor = reading \n",
    "        else:\n",
    "            return reading \n",
    "                \n",
    "    def draw(self):\n",
    "        \n",
    "        # Get board limits \n",
    "        mxx = max([ii for ii, jj in self.board])\n",
    "        mxy = max([jj for ii, jj in self.board])\n",
    "        \n",
    "        # Draw board \n",
    "        fig = plt.figure(figsize=(2*mxx,2*mxy))\n",
    "        ax = fig.add_subplot(111, aspect='equal')\n",
    "        \n",
    "        # Draw Squares \n",
    "        for ii, sq in enumerate(self.board):\n",
    "            ax.add_patch(patches.Rectangle(sq, 1, 1, lw=1, edgecolor=\"black\", fill=None))\n",
    "            ax.add_patch(patches.Rectangle(sq, 1, 1, lw=0, facecolor=\"black\",alpha=self.probs[ii]))\n",
    "            \n",
    "        # Draw Robot \n",
    "        ax.add_patch(patches.Circle((self.pos[0]+.5, self.pos[1]+.5), .3, lw=0, color=mycolors[\"red\"]))\n",
    "        \n",
    "        # Draw Sensors \n",
    "        self.take_reading()\n",
    "        rcolors=[mycolors[\"red\"] if reading==0 else mycolors[\"green\"] for reading in self.sensor]\n",
    "        ax.plot([self.pos[0]+.5, self.pos[0]+.5], [self.pos[1]+.8, self.pos[1]+1.1], lw=3, color=rcolors[0])\n",
    "        ax.plot([self.pos[0]+.5, self.pos[0]+.5], [self.pos[1]+.2, self.pos[1]-0.1], lw=3, color=rcolors[1])\n",
    "        ax.plot([self.pos[0]+.8, self.pos[0]+1.1], [self.pos[1]+.5, self.pos[1]+0.5],lw=3, color=rcolors[2])\n",
    "        ax.plot([self.pos[0]+.2, self.pos[0]-.1], [self.pos[1]+.5, self.pos[1]+0.5], lw=3, color=rcolors[3])\n",
    "            \n",
    "        # TODO - Add colorbar \n",
    "            \n",
    "        # Make pretty     \n",
    "        ax.set_xlim(-1,mxx+4)\n",
    "        ax.set_ylim(-1,mxy+2)\n",
    "        plt.xticks([], fontsize=16)\n",
    "        plt.yticks([], fontsize=16)\n",
    "        ax.spines['top'].set_visible(False)\n",
    "        ax.spines['right'].set_visible(False)\n",
    "        ax.spines['bottom'].set_visible(False)\n",
    "        ax.spines['left'].set_visible(False)\n",
    "        \n",
    "    def forward(self, ipos=None, num_moves=20, draw_all=False):\n",
    "            \n",
    "        self.pos = ipos if ipos else self.pos \n",
    "            \n",
    "        # Draw initial state no matter what \n",
    "        self.draw()\n",
    "        \n",
    "        f = np.ones(len(self.board)) / len(self.board)\n",
    "        for ii in range(num_moves):\n",
    "            self.move()\n",
    "            self.get_emissions()\n",
    "            af = np.multiply(self.emissions, np.dot(self.T.T, f))\n",
    "            f = af / np.sum(af)\n",
    "            self.probs = f \n",
    "            # Only draw intermediate state if option \n",
    "            if (ii != num_moves-1) and draw_all: \n",
    "                self.draw()\n",
    "        \n",
    "        # Draw final state no matter what \n",
    "        self.draw()\n",
    "        "
   ]
  },
  {
   "cell_type": "markdown",
   "metadata": {},
   "source": [
    "The following code builds and displays the board, along with a possible robot location. "
   ]
  },
  {
   "cell_type": "code",
   "execution_count": 166,
   "metadata": {
    "collapsed": false,
    "scrolled": true
   },
   "outputs": [
    {
     "data": {
      "image/png": "[encoded data removed]",
      "text/plain": [
       "<matplotlib.figure.Figure at 0x10e7fc150>"
      ]
     },
     "metadata": {},
     "output_type": "display_data"
    }
   ],
   "source": [
    "board_squares =  [(ii,0) for ii in range(8)]\n",
    "board_squares += [(ii,3) for ii in range(8)]\n",
    "board_squares += [(0,jj) for jj in range(1,3)]\n",
    "board_squares += [(5,jj) for jj in range(1,3)]\n",
    "board_squares += [(7,jj) for jj in range(1,3)]\n",
    "\n",
    "rw = RobotWorld(board=board_squares, pos=(2,3), eps=0.0)\n",
    "rw.draw()"
   ]
  },
  {
   "cell_type": "markdown",
   "metadata": {},
   "source": [
    "The following code reinitializes the board, and then runs the Forward Algorithm to try to predict the robot's location. Currently $\\epsilon$ is set to zero, so that sensor readings are always accurate.  Run it once with perfect readings, then change $\\epsilon$ to some number between $0.05$ and $0.20$ and run the Forward Algorithm again. "
   ]
  },
  {
   "cell_type": "code",
   "execution_count": null,
   "metadata": {
    "collapsed": false,
    "scrolled": false
   },
   "outputs": [],
   "source": [
    "sensor_eps = 0.00\n",
    "np.random.seed(1254)\n",
    "rw = RobotWorld(board=board_squares, pos=(2,3), eps=sensor_eps)\n",
    "rw.forward(num_moves=20, draw_all=True)"
   ]
  }
 ],
 "metadata": {
  "kernelspec": {
   "display_name": "Python 2",
   "language": "python",
   "name": "python2"
  },
  "language_info": {
   "codemirror_mode": {
    "name": "ipython",
    "version": 2
   },
   "file_extension": ".py",
   "mimetype": "text/x-python",
   "name": "python",
   "nbconvert_exporter": "python",
   "pygments_lexer": "ipython2",
   "version": "2.7.12"
  }
 },
 "nbformat": 4,
 "nbformat_minor": 0
}
