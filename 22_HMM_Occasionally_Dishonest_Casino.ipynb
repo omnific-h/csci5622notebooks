{
 "cells": [
  {
   "cell_type": "markdown",
   "metadata": {},
   "source": [
    "# Lecture 22: Hidden Markov Models and The Occasionally Dishonest Casino\n",
    "***\n",
    "\n",
    "        \n",
    "<img src=\"figs/dice_banner.png\",width=1000,height=50>        "
   ]
  },
  {
   "cell_type": "code",
   "execution_count": 613,
   "metadata": {
    "collapsed": false,
    "scrolled": true
   },
   "outputs": [],
   "source": [
    "import numpy as np \n",
    "import matplotlib.pyplot as plt\n",
    "%matplotlib inline\n",
    "\n",
    "msize = 200\n",
    "myfigsize=(12,6)\n",
    "\n",
    "mycolors = {\"blue\": \"steelblue\", \"red\": \"#a76c6e\", \"green\": \"#6a9373\"}\n",
    "\n",
    "class DishonestCasino:\n",
    "    def __init__(self, T=None, E=None, random_state=None, Xhist=None, Ehist=None):\n",
    "        if random_state: np.random.seed(random_state)\n",
    "        self.T = T\n",
    "        if self.T is None:\n",
    "            self.T = np.array([[0.95, 0.05],[0.05, 0.95]])\n",
    "        self.E = E\n",
    "        if self.E is None: \n",
    "            self.E = np.array([(1./6)*np.ones(6,), (1./10)*np.ones(6,)]); self.E[1,5] = 0.5\n",
    "        if Xhist is not None: \n",
    "            self.Xhist = Xhist \n",
    "        self.Ehist = Ehist\n",
    "        if Ehist is not None: \n",
    "            self.Ehist = Ehist \n",
    "            self.num_obs = len(self.Ehist)\n",
    "        self.num_states = self.T.shape[0]\n",
    "        \n",
    "    def roll(self, pmf):\n",
    "        u = np.random.uniform()\n",
    "        current_mass = 0\n",
    "        for ii, mass in enumerate(pmf):\n",
    "            current_mass += mass\n",
    "            if u < current_mass:\n",
    "                return ii\n",
    "        \n",
    "    def simulate_data(self, max_t):\n",
    "        state = 0 \n",
    "        self.Xhist = np.zeros((max_t,)).astype(int)\n",
    "        self.Ehist = np.zeros((max_t,)).astype(int)\n",
    "        for tt in range(max_t):\n",
    "            self.Xhist[tt] = state\n",
    "            self.Ehist[tt] = self.roll(self.E[state,:])\n",
    "            state = self.roll(self.T[state,:])\n",
    "        self.num_obs = max_t\n",
    "        \n",
    "    def report_data(self):\n",
    "        state_labels=[\"F\", \"L\"]\n",
    "        print \"\".join([state_labels[x] for x in self.Xhist])\n",
    "        print \"\".join([str(e+1) for e in self.Ehist])\n",
    "        \n",
    "    def report_test(self, z):\n",
    "        state_labels=[\"F\", \"L\"]\n",
    "        print \"\".join([str(e+1) for e in self.Ehist])\n",
    "        print \"\".join([state_labels[x] for x in self.Xhist])\n",
    "        print \"\".join([state_labels[val] for val in z])\n",
    "        \n",
    "    def forward_backward(self):\n",
    "        \n",
    "        # forward pass \n",
    "        F = np.ones((self.num_states, self.num_obs+1))\n",
    "        alpha = np.zeros(self.num_obs+1,)\n",
    "        alpha[0] = np.sum(F[:,0])\n",
    "        F[:,0] /= alpha[0]\n",
    "        for ii in range(self.num_obs-1):\n",
    "            F[:,ii+1] = np.multiply(self.E[:,self.Ehist[ii]], np.dot(self.T.T, F[:,ii]))\n",
    "            alpha[ii+1] = np.sum(F[:,ii+1])\n",
    "            F[:,ii+1] = F[:,ii+1]/alpha[ii+1]\n",
    "            \n",
    "        # backward pass \n",
    "        B = np.ones((self.num_states, self.num_obs+1))\n",
    "        for ii in range(self.num_obs-1,-1,-1):\n",
    "            B[:,ii] = np.dot(self.T, self.E[:,self.Ehist[ii]] * B[:,ii+1])\n",
    "            \n",
    "        # inference \n",
    "        G = F * B \n",
    "        for jj in range(G.shape[1]):\n",
    "            G[:,jj] /= np.sum(G[:,jj])\n",
    "            \n",
    "        return G\n",
    "    \n",
    "    def decode(self):\n",
    "        \n",
    "        # forward pass \n",
    "        V = np.ones((self.num_states, self.num_obs+1))\n",
    "        V[:,0] /= np.sum(V[:,0])\n",
    "        ptrs = np.zeros((self.num_states, self.num_obs)).astype(int)\n",
    "        for ii in range(1,self.num_obs-1):\n",
    "            TV = self.T * np.row_stack(V[:,ii-1])\n",
    "            ptrs[:,ii-1] = np.array([np.argmax(TV[:,kk]) for kk in range(self.num_states)])\n",
    "            V[:,ii] = self.E[:,self.Ehist[ii]] * np.array([np.max(TV[:,kk]) for kk in range(self.num_states)])\n",
    "            \n",
    "        # backtrace\n",
    "        best_path = np.zeros((self.num_obs)).astype(int)\n",
    "        best_path[-1] = np.argmax(V[:,-1])\n",
    "        for kk in range(self.num_obs-2,-1,-1):\n",
    "            best_path[kk] = ptrs[best_path[kk+1],kk+1]\n",
    "        \n",
    "        return best_path[:-1]\n",
    "   "
   ]
  },
  {
   "cell_type": "code",
   "execution_count": null,
   "metadata": {
    "collapsed": false
   },
   "outputs": [],
   "source": [
    "T = np.array([[0.95, 0.05],[0.05, 0.95]])\n",
    "E = np.array([(1./6)*np.ones(6,), (1./10)*np.ones(6,)]); E[1,5] = 0.5\n",
    "casino = DishonestCasino()\n",
    "casino.simulate_data(100)\n",
    "casino.report_data()\n",
    "G = casino.forward_backward()"
   ]
  },
  {
   "cell_type": "code",
   "execution_count": null,
   "metadata": {
    "collapsed": false
   },
   "outputs": [],
   "source": [
    "T = np.array([[0.95, 0.05],[0.05, 0.95]])\n",
    "E = np.array([(1./6)*np.ones(6,), (1./10)*np.ones(6,)]); E[1,5] = 0.5\n",
    "casino = DishonestCasino()\n",
    "casino.simulate_data(100)\n",
    "path = casino.decode()\n",
    "casino.report_test(path)"
   ]
  },
  {
   "cell_type": "code",
   "execution_count": null,
   "metadata": {
    "collapsed": true
   },
   "outputs": [],
   "source": []
  }
 ],
 "metadata": {
  "kernelspec": {
   "display_name": "Python 2",
   "language": "python",
   "name": "python2"
  },
  "language_info": {
   "codemirror_mode": {
    "name": "ipython",
    "version": 2
   },
   "file_extension": ".py",
   "mimetype": "text/x-python",
   "name": "python",
   "nbconvert_exporter": "python",
   "pygments_lexer": "ipython2",
   "version": "2.7.12"
  }
 },
 "nbformat": 4,
 "nbformat_minor": 0
}
